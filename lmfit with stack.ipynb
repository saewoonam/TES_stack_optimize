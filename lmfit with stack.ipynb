{
 "cells": [
  {
   "cell_type": "markdown",
   "id": "84d29ab7",
   "metadata": {},
   "source": [
    "### This code is to use the lmfit package with the stack code\n",
    "\n"
   ]
  },
  {
   "cell_type": "code",
   "execution_count": 1,
   "id": "2831977f",
   "metadata": {},
   "outputs": [],
   "source": [
    "%load_ext autoreload\n",
    "%autoreload 2"
   ]
  },
  {
   "cell_type": "code",
   "execution_count": 2,
   "id": "72b458cf",
   "metadata": {},
   "outputs": [],
   "source": [
    "import numpy as np\n",
    "import lmfit"
   ]
  },
  {
   "cell_type": "code",
   "execution_count": 3,
   "id": "b1823b7e",
   "metadata": {},
   "outputs": [],
   "source": [
    "import admittance"
   ]
  },
  {
   "cell_type": "code",
   "execution_count": 4,
   "id": "d81f7201",
   "metadata": {},
   "outputs": [],
   "source": [
    "n_glass = admittance.nk_code.constant_n(1.45)\n",
    "admittance.nk['glass'] = n_glass\n",
    "admittance.nk['lossy_glass'] = admittance.nk_code.constant_n(1.45-0.1j)\n"
   ]
  },
  {
   "cell_type": "code",
   "execution_count": 5,
   "id": "ca91a5b2",
   "metadata": {},
   "outputs": [],
   "source": [
    "layers = lmfit.Parameters()"
   ]
  },
  {
   "cell_type": "code",
   "execution_count": 6,
   "id": "eaa68bc1",
   "metadata": {},
   "outputs": [],
   "source": [
    "stack_description = ['air',\n",
    "                     #'SiO2_Metricon',\n",
    "                     #'aSi_Metricon',\n",
    "                     'glass',\n",
    "                     'lossy_glass',\n",
    "                     'air',\n",
    "                    ]\n",
    "idx = 0\n",
    "for name in stack_description:\n",
    "    if (idx==0):\n",
    "        p = lmfit.Parameter(f'layer{idx}', value=np.inf, min=100, max=np.inf, user_data={'name':name})\n",
    "        p.vary = False\n",
    "    elif (idx==(len(stack_description)-1)):\n",
    "        p = lmfit.Parameter(f'layer{idx}', value=np.inf, min=100, max=np.inf, user_data={'name':name})\n",
    "        p.vary = False\n",
    "    else:\n",
    "        p = lmfit.Parameter(f'layer{idx}', value=200, min=1, max=3000, user_data={'name':name})\n",
    "    layers.add(p)\n",
    "    idx +=1"
   ]
  },
  {
   "cell_type": "code",
   "execution_count": 7,
   "id": "3703f2b2",
   "metadata": {},
   "outputs": [
    {
     "data": {
      "text/html": [
       "<table><tr><th> name </th><th> value </th><th> initial value </th><th> min </th><th> max </th><th> vary </th></tr><tr><td> layer0 </td><td>         inf </td><td> inf </td><td>  100.000000 </td><td>         inf </td><td> False </td></tr><tr><td> layer1 </td><td>  200.000000 </td><td> 200 </td><td>  1.00000000 </td><td>  3000.00000 </td><td> True </td></tr><tr><td> layer2 </td><td>  200.000000 </td><td> 200 </td><td>  1.00000000 </td><td>  3000.00000 </td><td> True </td></tr><tr><td> layer3 </td><td>         inf </td><td> inf </td><td>  100.000000 </td><td>         inf </td><td> False </td></tr></table>"
      ],
      "text/plain": [
       "Parameters([('layer0',\n",
       "             <Parameter 'layer0', value=inf (fixed), bounds=[100:inf]>),\n",
       "            ('layer1', <Parameter 'layer1', value=200, bounds=[1:3000]>),\n",
       "            ('layer2', <Parameter 'layer2', value=200, bounds=[1:3000]>),\n",
       "            ('layer3',\n",
       "             <Parameter 'layer3', value=inf (fixed), bounds=[100:inf]>)])"
      ]
     },
     "execution_count": 7,
     "metadata": {},
     "output_type": "execute_result"
    }
   ],
   "source": [
    "layers"
   ]
  },
  {
   "cell_type": "code",
   "execution_count": 8,
   "id": "7d8178af",
   "metadata": {},
   "outputs": [
    {
     "data": {
      "text/plain": [
       "[inf, 200, 200, inf]"
      ]
     },
     "execution_count": 8,
     "metadata": {},
     "output_type": "execute_result"
    }
   ],
   "source": [
    "t = []\n",
    "for key in layers.keys():\n",
    "    t.append(layers[key].value)\n",
    "t"
   ]
  },
  {
   "cell_type": "code",
   "execution_count": 9,
   "id": "b6d1fb03",
   "metadata": {},
   "outputs": [
    {
     "data": {
      "text/plain": [
       "(array([1000, 1550]),\n",
       " array([[0.04888653, 0.        , 0.2088296 , 0.74228387],\n",
       "        [0.03615137, 0.        , 0.15911632, 0.8047323 ]]))"
      ]
     },
     "execution_count": 9,
     "metadata": {},
     "output_type": "execute_result"
    }
   ],
   "source": [
    "r = admittance.stack_v2(stack_description, t, np.array([1000, 1550]))\n",
    "r['vac_lambdas'], r['RAT'], "
   ]
  },
  {
   "cell_type": "code",
   "execution_count": 10,
   "id": "3fdac682",
   "metadata": {},
   "outputs": [],
   "source": [
    "def layers2t(layers):\n",
    "    t = []\n",
    "    for key in layers.keys():\n",
    "        t.append(layers[key].value)\n",
    "    return t\n",
    "def min_r(layers):\n",
    "    t = []\n",
    "    for key in layers.keys():\n",
    "        t.append(layers[key].value)\n",
    "    r = admittance.stack_v2(stack_description, t, np.array([1000, 1550]))\n",
    "    error = r['RAT'][:,0].sum()\n",
    "    return error"
   ]
  },
  {
   "cell_type": "code",
   "execution_count": 11,
   "id": "512d7ad3",
   "metadata": {},
   "outputs": [
    {
     "data": {
      "text/plain": [
       "0.0850379038443091"
      ]
     },
     "execution_count": 11,
     "metadata": {},
     "output_type": "execute_result"
    }
   ],
   "source": [
    "min_r(layers)"
   ]
  },
  {
   "cell_type": "code",
   "execution_count": 12,
   "id": "70a0cae4",
   "metadata": {},
   "outputs": [],
   "source": [
    "results = lmfit.minimize(min_r, layers, method='dual_annealing')"
   ]
  },
  {
   "cell_type": "code",
   "execution_count": 13,
   "id": "0e9e3f20",
   "metadata": {},
   "outputs": [
    {
     "data": {
      "text/plain": [
       "(0.0009290249207156013,\n",
       " Parameters([('layer0',\n",
       "              <Parameter 'layer0', value=inf (fixed), bounds=[100:inf]>),\n",
       "             ('layer1',\n",
       "              <Parameter 'layer1', value=758.1957492552499, bounds=[1:3000]>),\n",
       "             ('layer2',\n",
       "              <Parameter 'layer2', value=273.64147525568467, bounds=[1:3000]>),\n",
       "             ('layer3',\n",
       "              <Parameter 'layer3', value=inf (fixed), bounds=[100:inf]>)]))"
      ]
     },
     "execution_count": 13,
     "metadata": {},
     "output_type": "execute_result"
    }
   ],
   "source": [
    "min_r(results.params), results.params"
   ]
  },
  {
   "cell_type": "code",
   "execution_count": 14,
   "id": "6fe9eea6",
   "metadata": {},
   "outputs": [
    {
     "data": {
      "text/plain": [
       "(Parameters([('layer0',\n",
       "              <Parameter 'layer0', value=inf (fixed), bounds=[100:inf]>),\n",
       "             ('layer1',\n",
       "              <Parameter 'layer1', value=758.1957492552499, bounds=[1:3000]>),\n",
       "             ('layer2',\n",
       "              <Parameter 'layer2', value=273.64147525568467, bounds=[1:3000]>),\n",
       "             ('layer3',\n",
       "              <Parameter 'layer3', value=inf (fixed), bounds=[100:inf]>)]),\n",
       " [inf, 758.1957492552499, 273.64147525568467, inf])"
      ]
     },
     "execution_count": 14,
     "metadata": {},
     "output_type": "execute_result"
    }
   ],
   "source": [
    "results.params, layers2t(results.params)"
   ]
  },
  {
   "cell_type": "code",
   "execution_count": 15,
   "id": "5da21228",
   "metadata": {},
   "outputs": [
    {
     "data": {
      "text/plain": [
       "{'stack_nk': array([[1.  +0.j , 1.45+0.j , 1.45-0.1j, 1.  +0.j ],\n",
       "        [1.  +0.j , 1.45+0.j , 1.45-0.1j, 1.  +0.j ]]),\n",
       " 'vac_lambdas': array([1000, 1550]),\n",
       " 'RAT': array([[3.97383957e-04, 0.00000000e+00, 2.88252763e-01, 7.11349853e-01],\n",
       "        [5.31640964e-04, 0.00000000e+00, 2.01226935e-01, 7.98241424e-01]])}"
      ]
     },
     "execution_count": 15,
     "metadata": {},
     "output_type": "execute_result"
    }
   ],
   "source": [
    "admittance.stack_v2(stack_description, layers2t(results.params), np.array([1000, 1550]))\n"
   ]
  },
  {
   "cell_type": "markdown",
   "id": "5db22872",
   "metadata": {},
   "source": [
    "# Try with tungsten layer a 1064nm"
   ]
  },
  {
   "cell_type": "code",
   "execution_count": 33,
   "id": "6b7d99cc",
   "metadata": {},
   "outputs": [],
   "source": [
    "stack_description=['air', \n",
    "                   'SiO2_Metricon',\n",
    "                   'aSi_190312',\n",
    "                   'W_trilayer_29',\n",
    "                   'aSi_Metricon',\n",
    "                   'Au_Palik',\n",
    "                   'air'\n",
    "                  ]\n",
    "init_guess = [np.inf,\n",
    "              140.95,\n",
    "              36.26,\n",
    "              20,\n",
    "              69.62,\n",
    "              20,\n",
    "             np.inf]\n",
    "\n",
    "import ipywidgets as widgets\n",
    "from ipywidgets import Button, HBox, VBox, Layout\n",
    "\n",
    "vary_gui = []\n",
    "labels_gui = []\n",
    "guess_gui = []\n",
    "idx = 1  # skip incoming index\n",
    "while idx < len(stack_description)-1:  # skip output index\n",
    "    name = stack_description[idx]\n",
    "    guess = init_guess[idx]\n",
    "    cb = widgets.Checkbox(\n",
    "        value=False,\n",
    "        description=f'vary:',\n",
    "        disabled=False,\n",
    "        indent=False\n",
    "    )\n",
    "#     label = widgets.Text(\n",
    "#         value=f'layer: {name} init: {guess}',\n",
    "#         #placeholder='Type something',\n",
    "#         #description='String:',\n",
    "#         disabled=True\n",
    "#     )  \n",
    "    label = widgets.Label(f'{name}')\n",
    "    guess_widget = widgets.BoundedFloatText(\n",
    "        value=guess,\n",
    "        min=1,\n",
    "        #max=np.inf,\n",
    "        #step=0.1,\n",
    "        #description=f'{name}:',\n",
    "        disabled=False,\n",
    "        layout=Layout(width='150px')\n",
    "    )\n",
    "    \n",
    "    #print(name, guess)\n",
    "    idx += 1\n",
    "    vary_gui.append(cb)\n",
    "    labels_gui.append(label)\n",
    "    #labels_gui.append(HBox([label, guess_widget])\n",
    "    guess_gui.append(guess_widget)\n",
    "label_box = VBox(labels_gui)\n",
    "guess_box = VBox(guess_gui)\n",
    "vary_box = VBox(vary_gui)\n",
    "stack_gui = HBox([label_box, guess_box, vary_box])"
   ]
  },
  {
   "cell_type": "code",
   "execution_count": 35,
   "id": "c92ffb21",
   "metadata": {},
   "outputs": [
    {
     "data": {
      "application/vnd.jupyter.widget-view+json": {
       "model_id": "775a3d7342d64184be9097b33c0e3cc2",
       "version_major": 2,
       "version_minor": 0
      },
      "text/plain": [
       "HBox(children=(VBox(children=(Label(value='SiO2_Metricon'), Label(value='aSi_190312'), Label(value='W_trilayer…"
      ]
     },
     "metadata": {},
     "output_type": "display_data"
    }
   ],
   "source": [
    "stack_gui"
   ]
  },
  {
   "cell_type": "code",
   "execution_count": 36,
   "id": "82adf331",
   "metadata": {},
   "outputs": [
    {
     "name": "stdout",
     "output_type": "stream",
     "text": [
      "SiO2_Metricon 100.0 True\n",
      "aSi_190312 36.26 True\n",
      "W_trilayer_29 20.0 False\n",
      "aSi_Metricon 69.62 True\n",
      "Au_Palik 20.0 False\n"
     ]
    }
   ],
   "source": [
    "layers = lmfit.Parameters()\n",
    "idx = 0\n",
    "\n",
    "name = 'air'\n",
    "p = lmfit.Parameter(f'layer{idx}', value=np.inf, min=1, max=np.inf, user_data={'name':name})\n",
    "p.vary = False\n",
    "layers.add(p)\n",
    "\n",
    "while idx < len(stack_gui.children[0].children):\n",
    "    idx += 1\n",
    "    name = stack_gui.children[0].children[idx-1].value\n",
    "    t = stack_gui.children[1].children[idx-1].value\n",
    "    vary = stack_gui.children[2].children[idx-1].value\n",
    "    p = lmfit.Parameter(f'layer{idx}', value=t, min=0, max=1000, user_data={'name':name})\n",
    "    p.vary = vary\n",
    "    layers.add(p)\n",
    "    print(name, t, vary)\n",
    "\n",
    "name = 'air'\n",
    "p = lmfit.Parameter(f'layer{idx+1}', value=np.inf, min=1, max=np.inf, user_data={'name':name})\n",
    "p.vary = False\n",
    "layers.add(p)"
   ]
  },
  {
   "cell_type": "code",
   "execution_count": 37,
   "id": "9e1ce199",
   "metadata": {},
   "outputs": [
    {
     "data": {
      "text/html": [
       "<table><tr><th> name </th><th> value </th><th> initial value </th><th> min </th><th> max </th><th> vary </th></tr><tr><td> layer0 </td><td>         inf </td><td> inf </td><td>  1.00000000 </td><td>         inf </td><td> False </td></tr><tr><td> layer1 </td><td>  100.000000 </td><td> 100.0 </td><td>  0.00000000 </td><td>  1000.00000 </td><td> True </td></tr><tr><td> layer2 </td><td>  36.2600000 </td><td> 36.26 </td><td>  0.00000000 </td><td>  1000.00000 </td><td> True </td></tr><tr><td> layer3 </td><td>  20.0000000 </td><td> 20.0 </td><td>  0.00000000 </td><td>  1000.00000 </td><td> False </td></tr><tr><td> layer4 </td><td>  69.6200000 </td><td> 69.62 </td><td>  0.00000000 </td><td>  1000.00000 </td><td> True </td></tr><tr><td> layer5 </td><td>  20.0000000 </td><td> 20.0 </td><td>  0.00000000 </td><td>  1000.00000 </td><td> False </td></tr><tr><td> layer6 </td><td>         inf </td><td> inf </td><td>  1.00000000 </td><td>         inf </td><td> False </td></tr></table>"
      ],
      "text/plain": [
       "Parameters([('layer0',\n",
       "             <Parameter 'layer0', value=inf (fixed), bounds=[1:inf]>),\n",
       "            ('layer1', <Parameter 'layer1', value=100.0, bounds=[0:1000]>),\n",
       "            ('layer2', <Parameter 'layer2', value=36.26, bounds=[0:1000]>),\n",
       "            ('layer3',\n",
       "             <Parameter 'layer3', value=20.0 (fixed), bounds=[0:1000]>),\n",
       "            ('layer4', <Parameter 'layer4', value=69.62, bounds=[0:1000]>),\n",
       "            ('layer5',\n",
       "             <Parameter 'layer5', value=20.0 (fixed), bounds=[0:1000]>),\n",
       "            ('layer6',\n",
       "             <Parameter 'layer6', value=inf (fixed), bounds=[1:inf]>)])"
      ]
     },
     "execution_count": 37,
     "metadata": {},
     "output_type": "execute_result"
    }
   ],
   "source": [
    "layers\n"
   ]
  },
  {
   "cell_type": "code",
   "execution_count": 38,
   "id": "a6ff1e5b",
   "metadata": {},
   "outputs": [
    {
     "data": {
      "text/plain": [
       "{'stack_nk': array([[1.         +0.j        , 1.459299   +0.j        ,\n",
       "         2.9015615  -0.03206626j, 2.9040652  -4.0768726j ,\n",
       "         2.79327476 +0.j        , 1.35       -9.58j      ,\n",
       "         1.         +0.j        ],\n",
       "        [1.         +0.j        , 1.45265    +0.j        ,\n",
       "         2.795817   -0.01894686j, 2.8459627  -5.68989795j,\n",
       "         2.73489277 +0.j        , 1.44      -16.j        ,\n",
       "         1.         +0.j        ]]),\n",
       " 'vac_lambdas': array([1000, 1550]),\n",
       " 'RAT': array([[0.0128723 , 0.        , 0.01902859, 0.91216917, 0.        ,\n",
       "         0.04714879, 0.00878115],\n",
       "        [0.23807646, 0.        , 0.0083522 , 0.72915171, 0.        ,\n",
       "         0.02123761, 0.00318201]])}"
      ]
     },
     "execution_count": 38,
     "metadata": {},
     "output_type": "execute_result"
    }
   ],
   "source": [
    "admittance.stack_v2(stack_description, layers2t(layers), np.array([1000, 1550]))\n"
   ]
  },
  {
   "cell_type": "code",
   "execution_count": 65,
   "id": "8e2d5b40",
   "metadata": {},
   "outputs": [],
   "source": [
    "def min_r(layers):\n",
    "    t = []\n",
    "    for key in layers.keys():\n",
    "        t.append(layers[key].value)\n",
    "    wl = np.arange(900, 1101, 25)\n",
    "    r = admittance.stack_v2(stack_description, t, wl)\n",
    "    error = ((1-1/r['RAT'][:,3])**2).sum()\n",
    "    return error"
   ]
  },
  {
   "cell_type": "code",
   "execution_count": 66,
   "id": "ec043d86",
   "metadata": {},
   "outputs": [],
   "source": [
    "results = lmfit.minimize(min_r, layers, method='dual_annealing')"
   ]
  },
  {
   "cell_type": "code",
   "execution_count": 67,
   "id": "9d57fb77",
   "metadata": {},
   "outputs": [
    {
     "data": {
      "text/plain": [
       "(0.0768821862224383,\n",
       " Parameters([('layer0',\n",
       "              <Parameter 'layer0', value=inf (fixed), bounds=[1:inf]>),\n",
       "             ('layer1',\n",
       "              <Parameter 'layer1', value=121.97037567873464, bounds=[0:1000]>),\n",
       "             ('layer2',\n",
       "              <Parameter 'layer2', value=30.85964867402858, bounds=[0:1000]>),\n",
       "             ('layer3',\n",
       "              <Parameter 'layer3', value=20.0 (fixed), bounds=[0:1000]>),\n",
       "             ('layer4',\n",
       "              <Parameter 'layer4', value=64.41646584993126, bounds=[0:1000]>),\n",
       "             ('layer5',\n",
       "              <Parameter 'layer5', value=20.0 (fixed), bounds=[0:1000]>),\n",
       "             ('layer6',\n",
       "              <Parameter 'layer6', value=inf (fixed), bounds=[1:inf]>)]))"
      ]
     },
     "execution_count": 67,
     "metadata": {},
     "output_type": "execute_result"
    }
   ],
   "source": [
    "min_r(results.params), results.params"
   ]
  },
  {
   "cell_type": "code",
   "execution_count": 68,
   "id": "0eeb18de",
   "metadata": {},
   "outputs": [
    {
     "data": {
      "text/plain": [
       "{'stack_nk': array([[1.         +0.j        , 1.459299   +0.j        ,\n",
       "         2.9015615  -0.03206626j, 2.9040652  -4.0768726j ,\n",
       "         2.79327476 +0.j        , 1.35       -9.58j      ,\n",
       "         1.         +0.j        ],\n",
       "        [1.         +0.j        , 1.45265    +0.j        ,\n",
       "         2.795817   -0.01894686j, 2.8459627  -5.68989795j,\n",
       "         2.73489277 +0.j        , 1.44      -16.j        ,\n",
       "         1.         +0.j        ]]),\n",
       " 'vac_lambdas': array([1000, 1550]),\n",
       " 'RAT': array([[8.16262648e-04, 0.00000000e+00, 1.68618024e-02, 9.26502374e-01,\n",
       "         0.00000000e+00, 4.70557411e-02, 8.76381971e-03],\n",
       "        [2.76706922e-01, 0.00000000e+00, 6.58464012e-03, 6.91939970e-01,\n",
       "         0.00000000e+00, 2.15409999e-02, 3.22746865e-03]])}"
      ]
     },
     "execution_count": 68,
     "metadata": {},
     "output_type": "execute_result"
    }
   ],
   "source": [
    "admittance.stack_v2(stack_description, layers2t(results.params), np.array([1000, 1550]))\n"
   ]
  },
  {
   "cell_type": "code",
   "execution_count": 69,
   "id": "a781f551",
   "metadata": {},
   "outputs": [
    {
     "data": {
      "text/plain": [
       "[<matplotlib.lines.Line2D at 0x12166a580>]"
      ]
     },
     "execution_count": 69,
     "metadata": {},
     "output_type": "execute_result"
    },
    {
     "data": {
      "image/png": "[encoded data removed]",
      "text/plain": [
       "<Figure size 432x288 with 1 Axes>"
      ]
     },
     "metadata": {
      "needs_background": "light"
     },
     "output_type": "display_data"
    }
   ],
   "source": [
    "wl = np.arange(800, 1800)\n",
    "r = admittance.stack_v2(stack_description, layers2t(results.params), wl)\n",
    "import matplotlib.pyplot as plt\n",
    "plt.plot(wl, r['RAT'][:,3])\n"
   ]
  },
  {
   "cell_type": "code",
   "execution_count": 62,
   "id": "bc69f5bc",
   "metadata": {},
   "outputs": [
    {
     "name": "stdout",
     "output_type": "stream",
     "text": [
      "Parameters({\n",
      "    'layer0': <Parameter 'layer0', value=inf (fixed), bounds=[1:inf]>, \n",
      "    'layer1': <Parameter 'layer1', value=100.0, bounds=[0:1000]>, \n",
      "    'layer2': <Parameter 'layer2', value=36.26, bounds=[0:1000]>, \n",
      "    'layer3': <Parameter 'layer3', value=20.0 (fixed), bounds=[0:1000]>, \n",
      "    'layer4': <Parameter 'layer4', value=69.62, bounds=[0:1000]>, \n",
      "    'layer5': <Parameter 'layer5', value=20.0 (fixed), bounds=[0:1000]>, \n",
      "    'layer6': <Parameter 'layer6', value=inf (fixed), bounds=[1:inf]>, \n",
      "    })\n",
      "\n"
     ]
    },
    {
     "data": {
      "text/html": [
       "<table><tr><th> name </th><th> value </th><th> initial value </th><th> min </th><th> max </th><th> vary </th></tr><tr><td> layer0 </td><td>         inf </td><td> inf </td><td>  1.00000000 </td><td>         inf </td><td> False </td></tr><tr><td> layer1 </td><td>  100.000000 </td><td> 100.0 </td><td>  0.00000000 </td><td>  1000.00000 </td><td> True </td></tr><tr><td> layer2 </td><td>  36.2600000 </td><td> 36.26 </td><td>  0.00000000 </td><td>  1000.00000 </td><td> True </td></tr><tr><td> layer3 </td><td>  20.0000000 </td><td> 20.0 </td><td>  0.00000000 </td><td>  1000.00000 </td><td> False </td></tr><tr><td> layer4 </td><td>  69.6200000 </td><td> 69.62 </td><td>  0.00000000 </td><td>  1000.00000 </td><td> True </td></tr><tr><td> layer5 </td><td>  20.0000000 </td><td> 20.0 </td><td>  0.00000000 </td><td>  1000.00000 </td><td> False </td></tr><tr><td> layer6 </td><td>         inf </td><td> inf </td><td>  1.00000000 </td><td>         inf </td><td> False </td></tr></table>"
      ],
      "text/plain": [
       "<IPython.core.display.HTML object>"
      ]
     },
     "metadata": {},
     "output_type": "display_data"
    }
   ],
   "source": [
    "print(layers.pretty_repr())\n",
    "#p.user_data['name']\n",
    "from IPython.core.display import display, HTML\n",
    "display(HTML(layers._repr_html_()))"
   ]
  },
  {
   "cell_type": "markdown",
   "id": "0cd9c64f",
   "metadata": {},
   "source": [
    "#  Must have package tmm installed for code below\n",
    "https://pypi.org/project/tmm/"
   ]
  },
  {
   "cell_type": "code",
   "execution_count": 33,
   "id": "8fb51f49",
   "metadata": {},
   "outputs": [],
   "source": [
    "import tmm"
   ]
  },
  {
   "cell_type": "code",
   "execution_count": null,
   "id": "df6c6e94",
   "metadata": {},
   "outputs": [],
   "source": [
    "import numpy as np\n",
    "result = []\n",
    "for t in np.arange(1550):\n",
    "    d_list = [np.inf, t, t, np.inf] #in nm\n",
    "    n_list = [1, 1.45, 1.45+0.1j, 1]\n",
    "    th_0=0\n",
    "    lam_vac=1550\n",
    "    pol='p'\n",
    "    coh_tmm_data = tmm.coh_tmm(pol,n_list,d_list,np.array([th_0]),np.array([lam_vac]))\n",
    "    result.append(coh_tmm_data['R'])"
   ]
  },
  {
   "cell_type": "code",
   "execution_count": null,
   "id": "8e2b0eae",
   "metadata": {},
   "outputs": [],
   "source": [
    "# subtract results from tmm with results from stack... difference is numerical precision\n",
    "plt.plot(np.array(result)-np.array(R).ravel())"
   ]
  },
  {
   "cell_type": "code",
   "execution_count": null,
   "id": "1b93583c",
   "metadata": {},
   "outputs": [],
   "source": []
  }
 ],
 "metadata": {
  "kernelspec": {
   "display_name": "Python 3 (ipykernel)",
   "language": "python",
   "name": "python3"
  },
  "language_info": {
   "codemirror_mode": {
    "name": "ipython",
    "version": 3
   },
   "file_extension": ".py",
   "mimetype": "text/x-python",
   "name": "python",
   "nbconvert_exporter": "python",
   "pygments_lexer": "ipython3",
   "version": "3.9.7"
  }
 },
 "nbformat": 4,
 "nbformat_minor": 5
}
