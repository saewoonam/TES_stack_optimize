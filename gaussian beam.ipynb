{
 "cells": [
  {
   "cell_type": "code",
   "execution_count": 1,
   "id": "071d03fa",
   "metadata": {},
   "outputs": [],
   "source": [
    "import numpy as np\n",
    "import scipy.integrate\n",
    "import matplotlib.pyplot as plot"
   ]
  },
  {
   "cell_type": "code",
   "execution_count": 11,
   "id": "13d8e67a",
   "metadata": {},
   "outputs": [],
   "source": [
    "def gaussian_beam_rz(P0, w0, vac_lambda):\n",
    "    def w_z(w0, z, vac_lambda):\n",
    "        n = 1\n",
    "        z_r = np.pi * w0 * w0 * n / vac_lambda\n",
    "        return w0*np.sqrt( 1 + (z/z_r)**2)\n",
    "    \n",
    "    return lambda r, z: 2*P0 / (np.pi) * np.exp( - 2 * r * r / (w_z(w0, z, vac_lambda)**2)) / ( w_z(w0, z, vac_lambda)**2)\n",
    "    "
   ]
  },
  {
   "cell_type": "code",
   "execution_count": 125,
   "id": "e2c1f48c",
   "metadata": {},
   "outputs": [],
   "source": [
    "# MFD = 10.4 microns at 1550nm for SMF28\n",
    "\n",
    "def gaussian_beam_yx(y, x):\n",
    "    beam = gaussian_beam(1, 10.4/2, 1.55)\n",
    "    r = (x*x + y*y)**0.5\n",
    "    return beam(r, 0)"
   ]
  },
  {
   "cell_type": "code",
   "execution_count": 112,
   "id": "e5767fa3",
   "metadata": {},
   "outputs": [
    {
     "data": {
      "text/plain": [
       "0.022785052517784905"
      ]
     },
     "execution_count": 112,
     "metadata": {},
     "output_type": "execute_result"
    }
   ],
   "source": [
    "gaussian_beam_yx(0,0)"
   ]
  },
  {
   "cell_type": "code",
   "execution_count": 113,
   "id": "f7074744",
   "metadata": {},
   "outputs": [],
   "source": [
    "beam = gaussian_beam(1, 1, 1000)"
   ]
  },
  {
   "cell_type": "code",
   "execution_count": 114,
   "id": "94d0d5ac",
   "metadata": {},
   "outputs": [
    {
     "data": {
      "text/plain": [
       "0.6366197723675814"
      ]
     },
     "execution_count": 114,
     "metadata": {},
     "output_type": "execute_result"
    }
   ],
   "source": [
    "beam(0, 0)"
   ]
  },
  {
   "cell_type": "code",
   "execution_count": 116,
   "id": "c99bf590",
   "metadata": {},
   "outputs": [
    {
     "data": {
      "text/plain": [
       "(0.9041656586171629, 1.1083385249765714e-11)"
      ]
     },
     "execution_count": 116,
     "metadata": {},
     "output_type": "execute_result"
    }
   ],
   "source": [
    "xlimit = 5.2\n",
    "ylimit = 5.2\n",
    "integrate.dblquad(gaussian_beam_yx, -xlimit, xlimit, -ylimit, ylimit)"
   ]
  },
  {
   "cell_type": "markdown",
   "id": "b7c32078",
   "metadata": {},
   "source": [
    "### Check answer by integrating the beam over a circle that has a radius of 1/2 MFD "
   ]
  },
  {
   "cell_type": "code",
   "execution_count": 120,
   "id": "f7bc1736",
   "metadata": {},
   "outputs": [],
   "source": [
    "r = 5.2\n",
    "hmin = lambda x: -(r*r - x*x)**0.5\n",
    "hmax = lambda x: (r*r - x*x)**0.5"
   ]
  },
  {
   "cell_type": "code",
   "execution_count": 121,
   "id": "d9d5f1e0",
   "metadata": {},
   "outputs": [
    {
     "data": {
      "text/plain": [
       "(-5.2, -0.0, 5.2, 0.0)"
      ]
     },
     "execution_count": 121,
     "metadata": {},
     "output_type": "execute_result"
    }
   ],
   "source": [
    "hmin(0), hmin(5.2), hmax(0), hmax(5.2)"
   ]
  },
  {
   "cell_type": "code",
   "execution_count": 126,
   "id": "f4e639c2",
   "metadata": {},
   "outputs": [
    {
     "data": {
      "text/plain": [
       "(0.8646647167633633, 1.6967889315822049e-09)"
      ]
     },
     "execution_count": 126,
     "metadata": {},
     "output_type": "execute_result"
    }
   ],
   "source": [
    "integrate.dblquad(gaussian_beam_yx, -xlimit, xlimit, hmin, hmax)"
   ]
  },
  {
   "cell_type": "code",
   "execution_count": 124,
   "id": "02f36249",
   "metadata": {},
   "outputs": [
    {
     "data": {
      "text/plain": [
       "0.8646647167633873"
      ]
     },
     "execution_count": 124,
     "metadata": {},
     "output_type": "execute_result"
    }
   ],
   "source": [
    "1-np.exp(-2)"
   ]
  },
  {
   "cell_type": "code",
   "execution_count": null,
   "id": "38ba08f5",
   "metadata": {},
   "outputs": [],
   "source": []
  }
 ],
 "metadata": {
  "kernelspec": {
   "display_name": "Python 3 (ipykernel)",
   "language": "python",
   "name": "python3"
  },
  "language_info": {
   "codemirror_mode": {
    "name": "ipython",
    "version": 3
   },
   "file_extension": ".py",
   "mimetype": "text/x-python",
   "name": "python",
   "nbconvert_exporter": "python",
   "pygments_lexer": "ipython3",
   "version": "3.9.7"
  }
 },
 "nbformat": 4,
 "nbformat_minor": 5
}
