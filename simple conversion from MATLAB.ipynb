{
 "cells": [
  {
   "cell_type": "code",
   "execution_count": 1,
   "id": "75e37645",
   "metadata": {},
   "outputs": [],
   "source": [
    "import numpy as np"
   ]
  },
  {
   "cell_type": "code",
   "execution_count": 20,
   "id": "670a4224",
   "metadata": {},
   "outputs": [],
   "source": [
    "def characteristic_matrix(n,t,vac_lambda):\n",
    "    m = np.zeros((2,2), dtype=complex);\n",
    "    Yo = 2.6544e-3;\n",
    "\n",
    "    delta = 2*np.pi*n*t/vac_lambda;\n",
    "    eta_r = Yo * n;\n",
    "    m[0,0] = np.cos(delta);\n",
    "    m[1,1] = np.cos(delta);\n",
    "    m[0,1] = 1j*np.sin(delta)/eta_r;\n",
    "    m[1,0] = 1j*eta_r * np.sin(delta);\n",
    "    \n",
    "    return m"
   ]
  },
  {
   "cell_type": "code",
   "execution_count": 113,
   "id": "2b48548c",
   "metadata": {},
   "outputs": [],
   "source": [
    "def y_stack(vac_lambda , ninc , nsub , n , t ):\n",
    "    Yo = 2.6544e-3;\n",
    "    eta0 = ninc * Yo;\n",
    "    eta_m = nsub * Yo;\n",
    "    BC = np.array([[1],[nsub*Yo]], dtype=complex);\n",
    "    # P probably should be the line below\n",
    "    # P=[np.real(BC[0] * np.conj(BC[1])/2 )[0]];\n",
    "    P=[]\n",
    "    for count in range(len(n)-1, -1, -1):\n",
    "        BC = np.dot(characteristic_matrix(n[count],t[count], vac_lambda), BC);\n",
    "        P.append( np.real(BC[0] * np.conj(BC[1])/2 )[0])\n",
    "\n",
    "\n",
    "    B = BC[0];\n",
    "    C = BC[1];\n",
    "    \n",
    "    R = (eta0*B - C)/(eta0*B + C);\n",
    "    R = np.abs(R)**2\n",
    "    T = 4 * np.real(eta0*eta_m) / (np.abs(eta0*B+C)**2);\n",
    "    A = 4 * np.real(eta0*(B*np.conj(C)-eta_m)) / (np.abs(eta0*B+C)**2);\n",
    "    #print(type(P), P/P[-1])\n",
    "    if len(P):\n",
    "        P = P/P[-1]*(1-R); \n",
    "    return R, T, A, P"
   ]
  },
  {
   "cell_type": "code",
   "execution_count": 114,
   "id": "182dd971",
   "metadata": {},
   "outputs": [],
   "source": [
    "R, T, A, P = y_stack(1550, 1, 1, [1.45, 1.45-0.1j], [200, 200])"
   ]
  },
  {
   "cell_type": "code",
   "execution_count": 115,
   "id": "e9488456",
   "metadata": {},
   "outputs": [
    {
     "data": {
      "text/plain": [
       "(array([0.03615137]),\n",
       " array([0.8047323]),\n",
       " array([0.15911632]),\n",
       " array([0.96384863, 0.96384863]))"
      ]
     },
     "execution_count": 115,
     "metadata": {},
     "output_type": "execute_result"
    }
   ],
   "source": [
    "R, T, A, P[::-1]"
   ]
  },
  {
   "cell_type": "code",
   "execution_count": 98,
   "id": "e906ee33",
   "metadata": {},
   "outputs": [
    {
     "data": {
      "text/plain": [
       "array([1.])"
      ]
     },
     "execution_count": 98,
     "metadata": {},
     "output_type": "execute_result"
    }
   ],
   "source": [
    "R+A+T"
   ]
  },
  {
   "cell_type": "code",
   "execution_count": 99,
   "id": "6d22ace1",
   "metadata": {},
   "outputs": [
    {
     "data": {
      "text/plain": [
       "list"
      ]
     },
     "execution_count": 99,
     "metadata": {},
     "output_type": "execute_result"
    }
   ],
   "source": [
    "type(P)"
   ]
  },
  {
   "cell_type": "code",
   "execution_count": 105,
   "id": "2e93aece",
   "metadata": {},
   "outputs": [
    {
     "data": {
      "text/plain": [
       "array([0.96384863, 0.96384863])"
      ]
     },
     "execution_count": 105,
     "metadata": {},
     "output_type": "execute_result"
    }
   ],
   "source": [
    "P/P[-1] * (1-R)"
   ]
  },
  {
   "cell_type": "code",
   "execution_count": 112,
   "id": "2097a13a",
   "metadata": {},
   "outputs": [
    {
     "ename": "TypeError",
     "evalue": "can't multiply sequence by non-int of type 'float'",
     "output_type": "error",
     "traceback": [
      "\u001b[0;31m---------------------------------------------------------------------------\u001b[0m",
      "\u001b[0;31mTypeError\u001b[0m                                 Traceback (most recent call last)",
      "\u001b[0;32m/var/folders/3t/7ztd8ysx38l1xvfndk0pq994000k7f/T/ipykernel_69204/1895596190.py\u001b[0m in \u001b[0;36m<module>\u001b[0;34m\u001b[0m\n\u001b[0;32m----> 1\u001b[0;31m \u001b[0mP\u001b[0m \u001b[0;34m*\u001b[0m \u001b[0;36m0.1\u001b[0m\u001b[0;34m\u001b[0m\u001b[0;34m\u001b[0m\u001b[0m\n\u001b[0m",
      "\u001b[0;31mTypeError\u001b[0m: can't multiply sequence by non-int of type 'float'"
     ]
    }
   ],
   "source": [
    "P * 0.1"
   ]
  },
  {
   "cell_type": "code",
   "execution_count": 76,
   "id": "9837226c",
   "metadata": {},
   "outputs": [],
   "source": [
    "import admittance"
   ]
  },
  {
   "cell_type": "code",
   "execution_count": 77,
   "id": "78ff77fc",
   "metadata": {},
   "outputs": [
    {
     "data": {
      "text/plain": [
       "{'R': array([0.0189624]),\n",
       " 'T': array([0.86513282]),\n",
       " 'poynting': array([0.9810376 , 0.9810376 , 0.86513282, 0.86513282])}"
      ]
     },
     "execution_count": 77,
     "metadata": {},
     "output_type": "execute_result"
    }
   ],
   "source": [
    "admittance.stack([1, 1.45, 1.45-0.1j, 1.45, 1], [np.inf, 200, 200, 200, np.inf], 1550)"
   ]
  },
  {
   "cell_type": "code",
   "execution_count": 81,
   "id": "da2e7165",
   "metadata": {},
   "outputs": [],
   "source": [
    "R, T, A, P = y_stack(1550, 1, 1.45, [], [])"
   ]
  },
  {
   "cell_type": "code",
   "execution_count": 82,
   "id": "faf00744",
   "metadata": {},
   "outputs": [
    {
     "data": {
      "text/plain": [
       "(array([0.03373594]), array([0.96626406]), array([0.]), [])"
      ]
     },
     "execution_count": 82,
     "metadata": {},
     "output_type": "execute_result"
    }
   ],
   "source": [
    "R, T, A, P"
   ]
  },
  {
   "cell_type": "code",
   "execution_count": 92,
   "id": "2c0e942d",
   "metadata": {},
   "outputs": [],
   "source": [
    "x = [1,2,3]\n"
   ]
  },
  {
   "cell_type": "code",
   "execution_count": 94,
   "id": "97cda940",
   "metadata": {},
   "outputs": [
    {
     "ename": "TypeError",
     "evalue": "unsupported operand type(s) for /: 'list' and 'int'",
     "output_type": "error",
     "traceback": [
      "\u001b[0;31m---------------------------------------------------------------------------\u001b[0m",
      "\u001b[0;31mTypeError\u001b[0m                                 Traceback (most recent call last)",
      "\u001b[0;32m/var/folders/3t/7ztd8ysx38l1xvfndk0pq994000k7f/T/ipykernel_69204/1859903545.py\u001b[0m in \u001b[0;36m<module>\u001b[0;34m\u001b[0m\n\u001b[0;32m----> 1\u001b[0;31m \u001b[0mx\u001b[0m\u001b[0;34m/\u001b[0m\u001b[0;36m3\u001b[0m\u001b[0;34m\u001b[0m\u001b[0;34m\u001b[0m\u001b[0m\n\u001b[0m",
      "\u001b[0;31mTypeError\u001b[0m: unsupported operand type(s) for /: 'list' and 'int'"
     ]
    }
   ],
   "source": [
    "x/3"
   ]
  },
  {
   "cell_type": "code",
   "execution_count": null,
   "id": "f4f1915f",
   "metadata": {},
   "outputs": [],
   "source": []
  }
 ],
 "metadata": {
  "kernelspec": {
   "display_name": "Python 3 (ipykernel)",
   "language": "python",
   "name": "python3"
  },
  "language_info": {
   "codemirror_mode": {
    "name": "ipython",
    "version": 3
   },
   "file_extension": ".py",
   "mimetype": "text/x-python",
   "name": "python",
   "nbconvert_exporter": "python",
   "pygments_lexer": "ipython3",
   "version": "3.9.7"
  }
 },
 "nbformat": 4,
 "nbformat_minor": 5
}
